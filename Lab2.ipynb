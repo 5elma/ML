{
 "cells": [
  {
   "cell_type": "code",
   "execution_count": 13,
   "metadata": {},
   "outputs": [
    {
     "data": {
      "text/html": [
       "<div>\n",
       "<style scoped>\n",
       "    .dataframe tbody tr th:only-of-type {\n",
       "        vertical-align: middle;\n",
       "    }\n",
       "\n",
       "    .dataframe tbody tr th {\n",
       "        vertical-align: top;\n",
       "    }\n",
       "\n",
       "    .dataframe thead th {\n",
       "        text-align: right;\n",
       "    }\n",
       "</style>\n",
       "<table border=\"1\" class=\"dataframe\">\n",
       "  <thead>\n",
       "    <tr style=\"text-align: right;\">\n",
       "      <th></th>\n",
       "      <th>title</th>\n",
       "      <th>genres</th>\n",
       "      <th>tag</th>\n",
       "      <th>similarity_score</th>\n",
       "    </tr>\n",
       "  </thead>\n",
       "  <tbody>\n",
       "    <tr>\n",
       "      <th>0</th>\n",
       "      <td>The Christmas Chronicles: Part Two (2020)</td>\n",
       "      <td>[Adventure, Children, Fantasy]</td>\n",
       "      <td>Christmas Cute story childish humor Christmas ...</td>\n",
       "      <td>0.667061</td>\n",
       "    </tr>\n",
       "    <tr>\n",
       "      <th>1</th>\n",
       "      <td>A Christmas Miracle for Daisy (2021)</td>\n",
       "      <td>[Comedy, Romance]</td>\n",
       "      <td>christmas romance santa claus Christmas</td>\n",
       "      <td>0.578146</td>\n",
       "    </tr>\n",
       "    <tr>\n",
       "      <th>2</th>\n",
       "      <td>Joulupukki ja noitarumpu (1996)</td>\n",
       "      <td>[Animation, Children]</td>\n",
       "      <td>christmas santa claus Mauri Kunnas</td>\n",
       "      <td>0.556019</td>\n",
       "    </tr>\n",
       "    <tr>\n",
       "      <th>3</th>\n",
       "      <td>Mr. St. Nick (2002)</td>\n",
       "      <td>[Comedy, Fantasy]</td>\n",
       "      <td>christmas santa claus</td>\n",
       "      <td>0.556019</td>\n",
       "    </tr>\n",
       "    <tr>\n",
       "      <th>4</th>\n",
       "      <td>The Magic Crystal (2011)</td>\n",
       "      <td>[Adventure, Animation, Children, Comedy, Fantasy]</td>\n",
       "      <td>christmas christmas spirit orphan santa claus</td>\n",
       "      <td>0.513823</td>\n",
       "    </tr>\n",
       "  </tbody>\n",
       "</table>\n",
       "</div>"
      ],
      "text/plain": [
       "                                       title  \\\n",
       "0  The Christmas Chronicles: Part Two (2020)   \n",
       "1       A Christmas Miracle for Daisy (2021)   \n",
       "2            Joulupukki ja noitarumpu (1996)   \n",
       "3                        Mr. St. Nick (2002)   \n",
       "4                   The Magic Crystal (2011)   \n",
       "\n",
       "                                              genres  \\\n",
       "0                     [Adventure, Children, Fantasy]   \n",
       "1                                  [Comedy, Romance]   \n",
       "2                              [Animation, Children]   \n",
       "3                                  [Comedy, Fantasy]   \n",
       "4  [Adventure, Animation, Children, Comedy, Fantasy]   \n",
       "\n",
       "                                                 tag  similarity_score  \n",
       "0  Christmas Cute story childish humor Christmas ...          0.667061  \n",
       "1            christmas romance santa claus Christmas          0.578146  \n",
       "2                 christmas santa claus Mauri Kunnas          0.556019  \n",
       "3                              christmas santa claus          0.556019  \n",
       "4      christmas christmas spirit orphan santa claus          0.513823  "
      ]
     },
     "execution_count": 13,
     "metadata": {},
     "output_type": "execute_result"
    }
   ],
   "source": [
    "from Lab2 import load_data, compute_similarity, recommend_movies\n",
    "\n",
    "# Ladda datan och beräkna likheter\n",
    "movies = load_data()\n",
    "cosine_sim = compute_similarity(movies)\n",
    "\n",
    "recommend_movies(\"The Christmas Chronicles (2018)\", movies, cosine_sim)"
   ]
  }
 ],
 "metadata": {
  "kernelspec": {
   "display_name": ".venv",
   "language": "python",
   "name": "python3"
  },
  "language_info": {
   "codemirror_mode": {
    "name": "ipython",
    "version": 3
   },
   "file_extension": ".py",
   "mimetype": "text/x-python",
   "name": "python",
   "nbconvert_exporter": "python",
   "pygments_lexer": "ipython3",
   "version": "3.12.5"
  }
 },
 "nbformat": 4,
 "nbformat_minor": 2
}
